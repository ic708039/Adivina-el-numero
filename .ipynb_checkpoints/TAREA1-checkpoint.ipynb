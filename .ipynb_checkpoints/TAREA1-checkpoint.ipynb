{
 "cells": [
  {
   "cell_type": "code",
   "execution_count": null,
   "metadata": {
    "collapsed": true
   },
   "outputs": [],
   "source": [
    "import random as ran\n",
    "print (\"ADIVINA UN NUMERO DEL 1 AL 10\")\n",
    "i=1\n",
    "num_aleatorio = ran. randint(0.11)\n",
    "\n",
    "while 1>0:\n",
    "    numero = int(input(\"CUAL ES EL NUMERO\"))\n",
    "    i+=1\n",
    "    \n",
    "    if numero<num_aleatorio:\n",
    "        print (\"EL NUMERO ES MAYOR, VUELVE A INTENTAR\")\n",
    "    elif numero>num_aleatorio:\n",
    "        print (\"EL NUMERO ES MENOR, VUELVE A INTENTAR\")\n",
    "    elif numero == num_aleatorio:\n",
    "        print (\"ADIVINASTE\")\n",
    "        break\n",
    "if numero == num_aleatorio:\n",
    "    print (\"EL NUMERO ES :\"), num_aleatorio\n",
    "    print (\"FELICIDADES\")\n",
    "    "
   ]
  }
 ],
 "metadata": {
  "kernelspec": {
   "display_name": "Python 3",
   "language": "python",
   "name": "python3"
  },
  "language_info": {
   "codemirror_mode": {
    "name": "ipython",
    "version": 3
   },
   "file_extension": ".py",
   "mimetype": "text/x-python",
   "name": "python",
   "nbconvert_exporter": "python",
   "pygments_lexer": "ipython3",
   "version": "3.6.1"
  }
 },
 "nbformat": 4,
 "nbformat_minor": 2
}
